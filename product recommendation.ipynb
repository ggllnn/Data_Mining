{
 "cells": [
  {
   "cell_type": "code",
   "execution_count": 1,
   "id": "d35e7907",
   "metadata": {},
   "outputs": [],
   "source": [
    "import numpy as np \n",
    "dataset_filename = \"affinity_dataset.txt\" \n",
    "X = np.loadtxt(dataset_filename) "
   ]
  },
  {
   "cell_type": "code",
   "execution_count": 2,
   "id": "39b8f0ba",
   "metadata": {},
   "outputs": [
    {
     "name": "stdout",
     "output_type": "stream",
     "text": [
      "[[0. 0. 1. 1. 0.]\n",
      " [1. 1. 0. 0. 0.]\n",
      " [1. 0. 0. 1. 1.]\n",
      " [0. 1. 1. 0. 1.]\n",
      " [0. 1. 0. 0. 0.]]\n"
     ]
    }
   ],
   "source": [
    "print(X[:5]) "
   ]
  },
  {
   "cell_type": "code",
   "execution_count": 6,
   "id": "d1bc8b7a",
   "metadata": {},
   "outputs": [],
   "source": [
    "n_samples, n_features = X.shape"
   ]
  },
  {
   "cell_type": "code",
   "execution_count": 11,
   "id": "cf86536a",
   "metadata": {},
   "outputs": [],
   "source": [
    "from collections import defaultdict\n",
    "# 上面\"买了苹果又买香蕉\"是一种情况，现在把所有可能的情况都做一遍\n",
    "valid_rules = defaultdict(int)\n",
    "invalid_rules = defaultdict(int)\n",
    "num_occurences = defaultdict(int)\n",
    "\n",
    "for sample in X:\n",
    "    for premise in range(n_features):\n",
    "        if sample[premise] == 0: continue\n",
    "        # 先买premise，premise代表一种食物，记做X\n",
    "        num_occurences[premise] += 1\n",
    "        for conclusion in range(n_features):\n",
    "            if premise == conclusion:  \n",
    "                continue # 跳过买X又买X的情况\n",
    "            if sample[conclusion] == 1: # 又买了conclusion，conclusion代表一种食物，记做Y\n",
    "                valid_rules[(premise, conclusion)] += 1 # 买X买Y\n",
    "            else: \n",
    "                invalid_rules[(premise, conclusion)] += 1 # 买X没买Y\n",
    "support = valid_rules\n",
    "confidence = defaultdict(float)\n",
    "for premise, conclusion in valid_rules.keys():\n",
    "    confidence[(premise, conclusion)] = valid_rules[(premise, conclusion)] / num_occurences[premise]"
   ]
  },
  {
   "cell_type": "code",
   "execution_count": 12,
   "id": "22a0f3e6",
   "metadata": {},
   "outputs": [],
   "source": [
    "def print_rule(premise, conclusion, support, confidence, features):\n",
    "    premise_name = features[premise]\n",
    "    conclusion_name = features[conclusion]\n",
    "    print(\"Rule: 买了{0}，又买{1}\".format(premise_name, conclusion_name))\n",
    "    print(\" - 置信度Confidence: {0:.3f}\".format(confidence[(premise, conclusion)]))\n",
    "    print(\" - 支持度Support: {0}\".format(support[(premise, conclusion)]))\n",
    "    print(\"\")"
   ]
  },
  {
   "cell_type": "code",
   "execution_count": 14,
   "id": "63fd3f58",
   "metadata": {},
   "outputs": [],
   "source": [
    "features = [\"bread\", \"milk\", \"cheese\", \"apples\", \"bananas\"]"
   ]
  },
  {
   "cell_type": "code",
   "execution_count": 15,
   "id": "7e022730",
   "metadata": {},
   "outputs": [
    {
     "name": "stdout",
     "output_type": "stream",
     "text": [
      "Rule: 买了milk，又买apples\n",
      " - 置信度Confidence: 0.184\n",
      " - 支持度Support: 9\n",
      "\n"
     ]
    }
   ],
   "source": [
    "premise = 1\n",
    "conclusion = 3\n",
    "print_rule(premise, conclusion, support, confidence, features)"
   ]
  },
  {
   "cell_type": "code",
   "execution_count": 16,
   "id": "da714f79",
   "metadata": {},
   "outputs": [
    {
     "name": "stdout",
     "output_type": "stream",
     "text": [
      "Rule #1\n",
      "Rule: 买了cheese，又买apples\n",
      " - 置信度Confidence: 0.553\n",
      " - 支持度Support: 26\n",
      "\n",
      "Rule #2\n",
      "Rule: 买了apples，又买cheese\n",
      " - 置信度Confidence: 0.667\n",
      " - 支持度Support: 26\n",
      "\n",
      "Rule #3\n",
      "Rule: 买了cheese，又买bananas\n",
      " - 置信度Confidence: 0.532\n",
      " - 支持度Support: 25\n",
      "\n",
      "Rule #4\n",
      "Rule: 买了bananas，又买cheese\n",
      " - 置信度Confidence: 0.463\n",
      " - 支持度Support: 25\n",
      "\n",
      "Rule #5\n",
      "Rule: 买了apples，又买bananas\n",
      " - 置信度Confidence: 0.590\n",
      " - 支持度Support: 23\n",
      "\n"
     ]
    }
   ],
   "source": [
    "from operator import itemgetter \n",
    "sorted_support = sorted(support.items(), key=itemgetter(1), reverse=True) \n",
    "for index in range(5): \n",
    "     print(\"Rule #{0}\".format(index + 1)) \n",
    "     (premise, conclusion) = sorted_support[index][0] \n",
    "     print_rule(premise, conclusion, support, confidence, features) "
   ]
  },
  {
   "cell_type": "code",
   "execution_count": null,
   "id": "800bbae9",
   "metadata": {},
   "outputs": [],
   "source": []
  }
 ],
 "metadata": {
  "kernelspec": {
   "display_name": "Python 3 (ipykernel)",
   "language": "python",
   "name": "python3"
  },
  "language_info": {
   "codemirror_mode": {
    "name": "ipython",
    "version": 3
   },
   "file_extension": ".py",
   "mimetype": "text/x-python",
   "name": "python",
   "nbconvert_exporter": "python",
   "pygments_lexer": "ipython3",
   "version": "3.10.9"
  }
 },
 "nbformat": 4,
 "nbformat_minor": 5
}
